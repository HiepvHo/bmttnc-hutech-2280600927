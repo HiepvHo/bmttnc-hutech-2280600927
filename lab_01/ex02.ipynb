{
 "cells": [
  {
   "cell_type": "markdown",
   "id": "1e2b65ac",
   "metadata": {},
   "source": [
    "ex02_01"
   ]
  },
  {
   "cell_type": "code",
   "execution_count": 3,
   "id": "4920dcae",
   "metadata": {},
   "outputs": [
    {
     "name": "stdout",
     "output_type": "stream",
     "text": [
      "chào mừng Hiệp!, bạn 20 tuổi\n"
     ]
    }
   ],
   "source": [
    "ten = input(\"nhập tên của bạn: \")\n",
    "tuoi = input(\"nhập tuổi của bạn: \")\n",
    "\n",
    "print(\"chào mừng {}!, bạn {} tuổi\" .format(ten, tuoi))"
   ]
  },
  {
   "cell_type": "markdown",
   "id": "f11c47ca",
   "metadata": {},
   "source": [
    "ex02_02"
   ]
  },
  {
   "cell_type": "code",
   "execution_count": 10,
   "id": "77a3ce97",
   "metadata": {},
   "outputs": [
    {
     "name": "stdout",
     "output_type": "stream",
     "text": [
      "diện tích hình tròn là:  102.0186\n"
     ]
    }
   ],
   "source": [
    "ban_kinh = float(input(\"nhập bán kính hình tròn: \"))\n",
    "dien_tich = 3.14 * ban_kinh * ban_kinh\n",
    "print(\"diện tích hình tròn là: \", dien_tich)"
   ]
  },
  {
   "cell_type": "markdown",
   "id": "331dd84a",
   "metadata": {},
   "source": [
    "ex02_03"
   ]
  },
  {
   "cell_type": "code",
   "execution_count": 5,
   "id": "b44e669c",
   "metadata": {},
   "outputs": [
    {
     "name": "stdout",
     "output_type": "stream",
     "text": [
      "số 21 là số lẻ\n"
     ]
    }
   ],
   "source": [
    "so = int(input(\"nhập số nguyên: \"))\n",
    "if so % 2 == 0:\n",
    "    print(\"số {} là số chẵn\".format(so))\n",
    "else:\n",
    "    print(\"số {} là số lẻ\".format(so))"
   ]
  },
  {
   "cell_type": "markdown",
   "id": "35885434",
   "metadata": {},
   "source": [
    "ex02_04"
   ]
  },
  {
   "cell_type": "code",
   "execution_count": 6,
   "id": "7ad407bf",
   "metadata": {},
   "outputs": [
    {
     "name": "stdout",
     "output_type": "stream",
     "text": [
      "2002,2009,2016,2023,2037,2044,2051,2058,2072,2079,2086,2093,2107,2114,2121,2128,2142,2149,2156,2163,2177,2184,2191,2198,2212,2219,2226,2233,2247,2254,2261,2268,2282,2289,2296,2303,2317,2324,2331,2338,2352,2359,2366,2373,2387,2394,2401,2408,2422,2429,2436,2443,2457,2464,2471,2478,2492,2499,2506,2513,2527,2534,2541,2548,2562,2569,2576,2583,2597,2604,2611,2618,2632,2639,2646,2653,2667,2674,2681,2688,2702,2709,2716,2723,2737,2744,2751,2758,2772,2779,2786,2793,2807,2814,2821,2828,2842,2849,2856,2863,2877,2884,2891,2898,2912,2919,2926,2933,2947,2954,2961,2968,2982,2989,2996,3003,3017,3024,3031,3038,3052,3059,3066,3073,3087,3094,3101,3108,3122,3129,3136,3143,3157,3164,3171,3178,3192,3199\n"
     ]
    }
   ],
   "source": [
    "j = []\n",
    "\n",
    "for i in range(2000, 3201):\n",
    "    if (i % 7 == 0) and (i % 5 != 0):\n",
    "        j.append(str(i))\n",
    "print(','.join(j))"
   ]
  },
  {
   "cell_type": "markdown",
   "id": "cdc395ff",
   "metadata": {},
   "source": [
    "ex02_05"
   ]
  },
  {
   "cell_type": "code",
   "execution_count": null,
   "id": "c780b804",
   "metadata": {},
   "outputs": [
    {
     "name": "stdout",
     "output_type": "stream",
     "text": [
      "số tiên thực lĩnh của nhân viên: , 13912500.0\n"
     ]
    }
   ],
   "source": [
    "so_gio_lam = float(input(\"nhập số giờ làm mỗi tuần: \"))\n",
    "luong_gio = float(input(\"nhập thù lao mỗi giờ trên giờ làm tiêu chuẩn: \"))\n",
    "gio_tieu_chuan = 44\n",
    "gio_vuot_chuan = max(0, so_gio_lam - gio_tieu_chuan)\n",
    "\n",
    "thuc_linh = gio_tieu_chuan * luong_gio + (gio_vuot_chuan * luong_gio * 1.5)\n",
    "print(f\"số tiền thực lĩnh của nhân viên: , {thuc_linh}\")"
   ]
  },
  {
   "cell_type": "markdown",
   "id": "dfbce911",
   "metadata": {},
   "source": [
    "ex02_06"
   ]
  },
  {
   "cell_type": "code",
   "execution_count": 12,
   "id": "b4d33ddc",
   "metadata": {},
   "outputs": [
    {
     "name": "stdout",
     "output_type": "stream",
     "text": [
      "[[0, 0, 0, 0, 0], [0, 1, 2, 3, 4], [0, 2, 4, 6, 8]]\n"
     ]
    }
   ],
   "source": [
    "input_str = input(\"nhập X, Y: \")\n",
    "dimensions = [int(x) for x in input_str.split(\",\")]\n",
    "rowNum = dimensions[0]\n",
    "colNum = dimensions[1]\n",
    "multilist = [[0 for col in range(colNum)] for row in range(rowNum)]\n",
    "for row in range(rowNum):\n",
    "    for col in range(colNum):\n",
    "        multilist[row][col] = row * col\n",
    "print(multilist)"
   ]
  },
  {
   "cell_type": "markdown",
   "id": "eb82713f",
   "metadata": {},
   "source": [
    "ex02_07"
   ]
  },
  {
   "cell_type": "code",
   "execution_count": 3,
   "id": "108dc0cc",
   "metadata": {},
   "outputs": [
    {
     "name": "stdout",
     "output_type": "stream",
     "text": [
      "nhập các dòng văn bản (nhập 'done' để kết thúc):\n",
      "\n",
      "các dòng đã nhập sau khi chuyển thành chữ in hoa: \n",
      "XIN CHAO\n",
      "TOI LA HIEP\n"
     ]
    }
   ],
   "source": [
    "print(\"nhập các dòng văn bản (nhập 'done' để kết thúc):\")\n",
    "lines = []\n",
    "while True:\n",
    "    line = input()\n",
    "    if line.lower() == 'done':\n",
    "        break\n",
    "    lines.append(line)\n",
    "print(\"\\ncác dòng đã nhập sau khi chuyển thành chữ in hoa: \")\n",
    "for line in lines:\n",
    "    print(line.upper())"
   ]
  },
  {
   "cell_type": "markdown",
   "id": "5d885c16",
   "metadata": {},
   "source": [
    "ex02_08"
   ]
  },
  {
   "cell_type": "code",
   "execution_count": 8,
   "id": "c3c34f82",
   "metadata": {},
   "outputs": [
    {
     "name": "stdout",
     "output_type": "stream",
     "text": [
      "các số nhị phân chia hết cho 5 là:   1010\n"
     ]
    }
   ],
   "source": [
    "def chia_het_cho_5(so_nhi_phan):\n",
    "    so_thap_phan = int(so_nhi_phan, 2)\n",
    "    if so_thap_phan == 0:\n",
    "        return False\n",
    "    elif so_thap_phan % 5 == 0:\n",
    "        return True\n",
    "    else:\n",
    "        return False\n",
    "chuoi_nhi_phan = input(\"nhập chuỗi nhị phân: \")\n",
    "so_nhi_phan = chuoi_nhi_phan.split(\",\")\n",
    "so_chia_het_cho_5 = [so for so in so_nhi_phan if chia_het_cho_5(so)]\n",
    "\n",
    "if len(so_chia_het_cho_5) > 0:\n",
    "    ket_qua = \",\".join(so_chia_het_cho_5)\n",
    "    print(\"các số nhị phân chia hết cho 5 là: \", ket_qua)\n",
    "else:\n",
    "    print(\"không có số nhị phân nào chia hết cho 5\")"
   ]
  },
  {
   "cell_type": "markdown",
   "id": "b8afcba8",
   "metadata": {},
   "source": [
    "ex02_09"
   ]
  },
  {
   "cell_type": "code",
   "execution_count": 11,
   "id": "98a74323",
   "metadata": {},
   "outputs": [
    {
     "name": "stdout",
     "output_type": "stream",
     "text": [
      "5 là số nguyên tố\n"
     ]
    }
   ],
   "source": [
    "def so_nguyen_to(n):\n",
    "    if n < 2:\n",
    "        return False\n",
    "    for i in range(2, int(n**0.5) + 1):\n",
    "        if n % i == 0:\n",
    "            return False\n",
    "    return True\n",
    "number = int(input(\"nhập số nguyên dương: \"))\n",
    "if so_nguyen_to(number):\n",
    "    print(f\"{number} là số nguyên tố\")\n",
    "else:\n",
    "    print(f\"{number} không phải là số nguyên tố\")"
   ]
  },
  {
   "cell_type": "markdown",
   "id": "b4c0e2c1",
   "metadata": {},
   "source": [
    "ex_10"
   ]
  },
  {
   "cell_type": "code",
   "execution_count": 12,
   "id": "28c107f0",
   "metadata": {},
   "outputs": [
    {
     "name": "stdout",
     "output_type": "stream",
     "text": [
      "chuỗi đảo ngược là:  hiep\n"
     ]
    }
   ],
   "source": [
    "def dao_nguoc_chuoi(chuoi):\n",
    "    return chuoi[::-1]\n",
    "input_str = input(\"nhập chuỗi: \")\n",
    "print(\"chuỗi đảo ngược là: \", dao_nguoc_chuoi(input_str))"
   ]
  }
 ],
 "metadata": {
  "kernelspec": {
   "display_name": "Python 3",
   "language": "python",
   "name": "python3"
  },
  "language_info": {
   "codemirror_mode": {
    "name": "ipython",
    "version": 3
   },
   "file_extension": ".py",
   "mimetype": "text/x-python",
   "name": "python",
   "nbconvert_exporter": "python",
   "pygments_lexer": "ipython3",
   "version": "3.12.10"
  }
 },
 "nbformat": 4,
 "nbformat_minor": 5
}
